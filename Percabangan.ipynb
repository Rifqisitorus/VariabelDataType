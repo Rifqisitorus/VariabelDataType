{
 "cells": [
  {
   "cell_type": "code",
   "execution_count": 3,
   "id": "0e6d4b52",
   "metadata": {},
   "outputs": [
    {
     "name": "stdout",
     "output_type": "stream",
     "text": [
      "Isikan bilangan:5\n",
      "(nilai) adalah bilangan ganjil\n"
     ]
    }
   ],
   "source": [
    "nilai = int(input('Isikan bilangan:'))\n",
    "sisa_bagi = nilai % 2\n",
    "\n",
    "if sisa_bagi ==0:\n",
    "    print(nilai,\"adalah bilangan ganjil\")\n",
    "else:\n",
    "    print(f\"(nilai) adalah bilangan ganjil\")\n",
    "    "
   ]
  },
  {
   "cell_type": "code",
   "execution_count": 9,
   "id": "9d0e44e8",
   "metadata": {},
   "outputs": [
    {
     "name": "stdout",
     "output_type": "stream",
     "text": [
      "Isikan Nilai pemmograman Mahasiswa88\n",
      "Nilai Huruf Mahasiswa A\n"
     ]
    }
   ],
   "source": [
    "# 0 - 49 => E\n",
    "# 50 - 59 => D\n",
    "# 60 - 69 => C\n",
    "# 70 - 84 => B\n",
    "# 85 - 100=> A\n",
    "\n",
    "nilai_mhs = int(input('Isikan Nilai pemmograman Mahasiswa'))\n",
    "keterangan=\"\"\n",
    "if nilai_mhs >=0 and nilai_mhs < 50:\n",
    "    keterangan = \"E\"\n",
    "elif nilai_mhs >=50 and nilai_mhs < 60:\n",
    "    keterangan = \"D\"\n",
    "elif nilai_mhs >=60 and nilai_mhs < 70:\n",
    "    keterangan = \"c\"\n",
    "elif nilai_mhs >=70 and nilai_mhs < 80:\n",
    "    keterangan = \"B\"\n",
    "elif nilai_mhs >=80 and nilai_mhs < 100:\n",
    "    keterangan = \"A\"\n",
    "    \n",
    "print(\"Nilai Huruf Mahasiswa\",keterangan)    "
   ]
  },
  {
   "cell_type": "code",
   "execution_count": null,
   "id": "c0038041",
   "metadata": {},
   "outputs": [],
   "source": []
  }
 ],
 "metadata": {
  "kernelspec": {
   "display_name": "Python 3 (ipykernel)",
   "language": "python",
   "name": "python3"
  },
  "language_info": {
   "codemirror_mode": {
    "name": "ipython",
    "version": 3
   },
   "file_extension": ".py",
   "mimetype": "text/x-python",
   "name": "python",
   "nbconvert_exporter": "python",
   "pygments_lexer": "ipython3",
   "version": "3.9.12"
  }
 },
 "nbformat": 4,
 "nbformat_minor": 5
}
