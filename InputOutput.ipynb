{
 "cells": [
  {
   "cell_type": "code",
   "execution_count": 3,
   "id": "f9131607",
   "metadata": {},
   "outputs": [
    {
     "name": "stdout",
     "output_type": "stream",
     "text": [
      "isikan nama awalrifqi\n",
      "isikan nama tengahalvares jennifer\n",
      "isikan nama akhirsitrous\n",
      "selamat datang rifqi alvares jennifer sitrous S.kom\n"
     ]
    }
   ],
   "source": [
    "fname = input('isikan nama awal')\n",
    "mname = input('isikan nama tengah')\n",
    "lname = input('isikan nama akhir')\n",
    "\n",
    "print('selamat datang' ,fname,mname,lname,\"S.kom\")\n",
    "\n"
   ]
  },
  {
   "cell_type": "code",
   "execution_count": 4,
   "id": "b65f3dd0",
   "metadata": {},
   "outputs": [
    {
     "name": "stdout",
     "output_type": "stream",
     "text": [
      "isikan bilangan 1:4\n",
      "isikan bilangan 2:4\n",
      "<class 'str'>\n",
      "hasil penjumlahan 8\n"
     ]
    }
   ],
   "source": [
    "bil1 = input('isikan bilangan 1:')\n",
    "bil2 = input('isikan bilangan 2:')\n",
    "print(type(bil1))\n",
    "hasil = int (bil1) + int (bil2)\n",
    "print('hasil penjumlahan', hasil)"
   ]
  },
  {
   "cell_type": "code",
   "execution_count": 15,
   "id": "367fdf56",
   "metadata": {},
   "outputs": [
    {
     "name": "stdout",
     "output_type": "stream",
     "text": [
      "isikan panjang persegi14\n",
      "isikan lebar persegi15\n",
      "luas persegi panjang 14\n",
      "keliling persegi panjang 30\n"
     ]
    }
   ],
   "source": [
    "#Luas => p * l\n",
    "#keliling = 2 * (p+L)\n",
    "\n",
    "p= input('isikan panjang persegi')\n",
    "l= input('isikan lebar persegi')\n",
    "\n",
    "luas = int(p) * int(1)\n",
    "keliling = 2 * (int(p) + int(1))\n",
    "\n",
    "print('luas persegi panjang',luas)\n",
    "print('keliling persegi panjang',keliling)"
   ]
  },
  {
   "cell_type": "code",
   "execution_count": 16,
   "id": "d68bd433",
   "metadata": {},
   "outputs": [
    {
     "name": "stdout",
     "output_type": "stream",
     "text": [
      "senin@selasa@rabu@kamis@jumat@sabtu@minggu^-^one\n",
      "two\n",
      "three\n",
      "four\n"
     ]
    }
   ],
   "source": [
    "print(\"senin\",\"selasa\",\"rabu\",\"kamis\",\"jumat\",\"sabtu\",\"minggu\",sep=\"@\",end=\"^-^\")\n",
    "print(\"one\",\"two\",\"three\",\"four\",sep=\"\\n\")"
   ]
  },
  {
   "cell_type": "code",
   "execution_count": 17,
   "id": "e160a354",
   "metadata": {},
   "outputs": [
    {
     "name": "stdout",
     "output_type": "stream",
     "text": [
      "perkalian 7 dengan 10 adalah 70\n"
     ]
    }
   ],
   "source": [
    "number1 = 7\n",
    "number2 = 10\n",
    "\n",
    "#hasil perkalian 7 dengan 10 adalah 70\n",
    "print(\"perkalian {} dengan {} adalah {}\".format(number1,number2,number1 * number2))\n"
   ]
  },
  {
   "cell_type": "code",
   "execution_count": 19,
   "id": "c89bbad4",
   "metadata": {},
   "outputs": [
    {
     "name": "stdout",
     "output_type": "stream",
     "text": [
      "Urutan Huruf CBA\n"
     ]
    }
   ],
   "source": [
    "first_letter = \"A\"\n",
    "middle_letter = \"B\"\n",
    "last_letter = \"C\"\n",
    "\n",
    "print(\"Urutan Huruf {2}{1}{0}\".format(first_letter,middle_letter,last_letter))"
   ]
  },
  {
   "cell_type": "code",
   "execution_count": 23,
   "id": "f733a4a8",
   "metadata": {},
   "outputs": [
    {
     "name": "stdout",
     "output_type": "stream",
     "text": [
      "sekarang tanggal 20 bulan maret tahun 2024\n"
     ]
    }
   ],
   "source": [
    "# sekarng tanggal 20 bulan maret tahun 2024\n",
    "print(\"sekarang tanggal {tanggal} bulan {bulan} tahun {tahun}\".format(tanggal = 20,bulan=\"maret\",tahun=2024))"
   ]
  },
  {
   "cell_type": "code",
   "execution_count": 25,
   "id": "c51a8019",
   "metadata": {},
   "outputs": [
    {
     "name": "stdout",
     "output_type": "stream",
     "text": [
      "Huruf pertama adalah: U\n",
      "Huruf terakhir adalah: a\n",
      "Huruf range 0-10 Universitas\n",
      "Putra\n",
      "Nusa Putra\n",
      "artuP asuN satisrevinU\n"
     ]
    }
   ],
   "source": [
    "kampus = \"Universitas Nusa Putra\"\n",
    "print(\"Huruf pertama adalah:\",kampus[0])\n",
    "print(\"Huruf terakhir adalah:\",kampus[- 1])\n",
    "print(\"Huruf range 0-10\",kampus[0:11])\n",
    "print(kampus[-5:])\n",
    "print(kampus[12:])\n",
    "#Reverse string\n",
    "print(kampus[::-1])"
   ]
  },
  {
   "cell_type": "code",
   "execution_count": 26,
   "id": "071ad441",
   "metadata": {},
   "outputs": [
    {
     "name": "stdout",
     "output_type": "stream",
     "text": [
      "['jakarta', 'sukabumi', 'malang', 'bandung', 'surabaya']\n",
      "jakarta\n",
      "jakarta@sukabumi@malang@bandung@surabaya\n"
     ]
    }
   ],
   "source": [
    "#Split => String -> list\n",
    "kota = \"jakarta sukabumi malang bandung surabaya\"\n",
    "list_kota = kota.split()\n",
    "print(list_kota)\n",
    "print(list_kota[0])\n",
    "#join -> list -> string\n",
    "join_kota = \"@\".join(list_kota)\n",
    "print(join_kota)"
   ]
  },
  {
   "cell_type": "code",
   "execution_count": 4,
   "id": "1fd651d1",
   "metadata": {},
   "outputs": [
    {
     "name": "stdout",
     "output_type": "stream",
     "text": [
      "Isikan Nama Anda:Rifqi Sitorus\n",
      "Isikan Tanggal Lahir:18\n",
      "Nama Awal : Rifqi\n",
      "Nama Akhir : Sitorus\n",
      "Nama Inisial : RS\n"
     ]
    }
   ],
   "source": [
    "# Isikan Nama : Rifqi sitorus\n",
    "# Isikan tanggal lahir : 18/05/2005\n",
    "# Output :\n",
    "# Nama awal : Rifqi\n",
    "# Nama akhir : sitorus \n",
    "# tgl lhir : 18\n",
    "# bulan lahir : 05\n",
    "# tahun lahir : 2005\n",
    "# Nama inisial : RS\n",
    "\n",
    "nama = input(\"Isikan Nama Anda:\")\n",
    "tgl = input(\"Isikan Tanggal Lahir:\")\n",
    "\n",
    "list_nama = nama.split()\n",
    "print(\"Nama Awal :\", list_nama[0])\n",
    "print(\"Nama Akhir :\", list_nama[1])\n",
    "print(\"Nama Inisial :\", list_nama[0][0] + list_nama[1][0])\n"
   ]
  },
  {
   "cell_type": "code",
   "execution_count": null,
   "id": "07fc6e7f",
   "metadata": {},
   "outputs": [],
   "source": []
  }
 ],
 "metadata": {
  "kernelspec": {
   "display_name": "Python 3 (ipykernel)",
   "language": "python",
   "name": "python3"
  },
  "language_info": {
   "codemirror_mode": {
    "name": "ipython",
    "version": 3
   },
   "file_extension": ".py",
   "mimetype": "text/x-python",
   "name": "python",
   "nbconvert_exporter": "python",
   "pygments_lexer": "ipython3",
   "version": "3.9.12"
  }
 },
 "nbformat": 4,
 "nbformat_minor": 5
}
