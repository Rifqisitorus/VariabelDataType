{
 "cells": [
  {
   "cell_type": "markdown",
   "id": "fa1901e4",
   "metadata": {},
   "source": [
    "<h1>Belajar Variabel dan Tipe Data </h1><hr>\n",
    "Tipe Data di Python yaitu <b>intergel ,Float,String ,Complex</b>\n"
   ]
  },
  {
   "cell_type": "code",
   "execution_count": 1,
   "id": "0729a343",
   "metadata": {},
   "outputs": [
    {
     "name": "stdout",
     "output_type": "stream",
     "text": [
      "100\n",
      "<class 'int'>\n"
     ]
    }
   ],
   "source": [
    "data_integer = 100\n",
    "data_integer\n",
    "print(data_integer)\n",
    "print(type(data_integer))"
   ]
  },
  {
   "cell_type": "code",
   "execution_count": 2,
   "id": "16f9b310",
   "metadata": {},
   "outputs": [
    {
     "name": "stdout",
     "output_type": "stream",
     "text": [
      "10.5\n",
      "<class 'float'>\n"
     ]
    }
   ],
   "source": [
    "data_float = 10.5\n",
    "print(data_float)\n",
    "print(type(data_float))"
   ]
  },
  {
   "cell_type": "code",
   "execution_count": 3,
   "id": "23496acc",
   "metadata": {},
   "outputs": [
    {
     "name": "stdout",
     "output_type": "stream",
     "text": [
      "True\n",
      "<class 'bool'>\n"
     ]
    }
   ],
   "source": [
    "data_boolean = True \n",
    "print(data_boolean)\n",
    "print(type(data_boolean))"
   ]
  },
  {
   "cell_type": "code",
   "execution_count": 14,
   "id": "55d8fe15",
   "metadata": {},
   "outputs": [
    {
     "name": "stdout",
     "output_type": "stream",
     "text": [
      "70\n",
      "<class 'str'>\n"
     ]
    }
   ],
   "source": [
    "data_string = \"70\"\n",
    "print(data_string)\n",
    "print(type(data_string))"
   ]
  },
  {
   "cell_type": "code",
   "execution_count": 5,
   "id": "267d8fd7",
   "metadata": {},
   "outputs": [
    {
     "name": "stdout",
     "output_type": "stream",
     "text": [
      "(5+6j)\n",
      "<class 'complex'>\n"
     ]
    }
   ],
   "source": [
    "data_complex = complex(5,6)\n",
    "print(data_complex)\n",
    "print(type(data_complex))"
   ]
  },
  {
   "cell_type": "markdown",
   "id": "2c8ccda2",
   "metadata": {},
   "source": [
    "<h2>Casting</h2><hr>\n",
    "<font color=\"blue\">Casting</font> adalah proses melakukan konversi tipe data <br>\n",
    "<ol>\n",
    "    <li>sintak casting menggunakan (tipe data)</li>\n",
    "    <li>casting dapat dilakukan untuk semua tipe data</li>\n",
    "<ol>"
   ]
  },
  {
   "cell_type": "code",
   "execution_count": 8,
   "id": "eab2d41f",
   "metadata": {},
   "outputs": [
    {
     "name": "stdout",
     "output_type": "stream",
     "text": [
      "100\n",
      "10.5\n",
      "<class 'str'>\n",
      "<class 'float'>\n"
     ]
    }
   ],
   "source": [
    "int_to_string = str(data_integer)\n",
    "int_to_float = float(data_integer)\n",
    "\n",
    "print(int_to_string)\n",
    "print(int_to_float)\n",
    "\n",
    "print(type(int_to_string))\n",
    "print(type(int_to_float))"
   ]
  },
  {
   "cell_type": "code",
   "execution_count": 10,
   "id": "efeecfdc",
   "metadata": {},
   "outputs": [
    {
     "name": "stdout",
     "output_type": "stream",
     "text": [
      "True\n",
      "10.5\n",
      "(10.5+0j)\n",
      "<class 'bool'>\n",
      "<class 'str'>\n",
      "<class 'complex'>\n"
     ]
    }
   ],
   "source": [
    "int_to_bool = bool(data_float)\n",
    "int_to_string = str(data_float)\n",
    "int_to_int = int(data_float)\n",
    "\n",
    "print(int_to_bool)\n",
    "print(int_to_string)\n",
    "print(int_to_integer)\n",
    "\n",
    "print(type(int_to_bool))\n",
    "print(type(int_to_string))\n",
    "print(type(int_to_integer))"
   ]
  },
  {
   "cell_type": "code",
   "execution_count": 11,
   "id": "c85de5b9",
   "metadata": {},
   "outputs": [
    {
     "name": "stdout",
     "output_type": "stream",
     "text": [
      "10.5\n",
      "(1+0j)\n",
      "1.0\n",
      "<class 'str'>\n",
      "<class 'complex'>\n",
      "<class 'float'>\n"
     ]
    }
   ],
   "source": [
    "int_to_sting = str(data_boolean)\n",
    "int_to_integer = int(data_boolean)\n",
    "int_to_float = float(data_boolean)\n",
    "\n",
    "print(int_to_string)\n",
    "print(int_to_integer)\n",
    "print(int_to_float)\n",
    "\n",
    "print(type(int_to_string))\n",
    "print(type(int_to_integer))\n",
    "print(type(int_to_float))"
   ]
  },
  {
   "cell_type": "code",
   "execution_count": 17,
   "id": "b85218ea",
   "metadata": {},
   "outputs": [
    {
     "name": "stdout",
     "output_type": "stream",
     "text": [
      "True\n",
      "70.0\n",
      "70\n",
      "<class 'bool'>\n",
      "<class 'float'>\n",
      "<class 'int'>\n"
     ]
    }
   ],
   "source": [
    "int_to_bool = bool(data_string)\n",
    "int_to_float = float(data_string)\n",
    "int_to_integer = int(data_string)\n",
    "\n",
    "print(int_to_bool)\n",
    "print(int_to_float)\n",
    "print(int_to_integer)\n",
    "\n",
    "print(type(int_to_bool))\n",
    "print(type(int_to_float))\n",
    "print(type(int_to_integer))"
   ]
  }
 ],
 "metadata": {
  "kernelspec": {
   "display_name": "Python 3 (ipykernel)",
   "language": "python",
   "name": "python3"
  },
  "language_info": {
   "codemirror_mode": {
    "name": "ipython",
    "version": 3
   },
   "file_extension": ".py",
   "mimetype": "text/x-python",
   "name": "python",
   "nbconvert_exporter": "python",
   "pygments_lexer": "ipython3",
   "version": "3.9.12"
  }
 },
 "nbformat": 4,
 "nbformat_minor": 5
}
